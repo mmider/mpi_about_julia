{
 "cells": [
  {
   "cell_type": "markdown",
   "metadata": {
    "slideshow": {
     "slide_type": "slide"
    }
   },
   "source": [
    "![logo](figs/julia-logo-300.png)\n",
    "# What's the hype all about?\n",
    "A case for scientific computing with `Julia`"
   ]
  },
  {
   "cell_type": "markdown",
   "metadata": {
    "slideshow": {
     "slide_type": "slide"
    }
   },
   "source": [
    "![history_julia](figs/history_julia.png)\n",
    "<span style=\"font-size:0.5em;\">zdnet.com</span>\n",
    "\n",
    "### First release: 2012\n",
    "### First stable release: 8 August 2018"
   ]
  },
  {
   "cell_type": "markdown",
   "metadata": {
    "slideshow": {
     "slide_type": "subslide"
    }
   },
   "source": [
    "![growth_metrics](figs/growth_metrics.png)\n",
    "<span style=\"font-size:0.5em;\">zdnet.com</span>"
   ]
  },
  {
   "cell_type": "markdown",
   "metadata": {
    "slideshow": {
     "slide_type": "subslide"
    }
   },
   "source": [
    "### Some perspective\n",
    "![popularity_by_tutorial](figs/popularity_by_tutorial_search.png)\n",
    "<span style=\"font-size:0.5em;\">source:  http://pypl.github.io/PYPL.html</span>"
   ]
  },
  {
   "cell_type": "markdown",
   "metadata": {
    "slideshow": {
     "slide_type": "slide"
    }
   },
   "source": [
    "# About Julialang...\n",
    "|  | ![jeff](figs/jeff.png) | ![stefan](figs/stefan.png) | ![viral](figs/viral.png) | ![alan](figs/alan.png) |\n",
    "|---------|---------|--------|-----------|----------|\n",
    "| source | github | github | github | wikipedia |\n",
    "\n",
    "![contributors](figs/contributors.png)\n"
   ]
  },
  {
   "cell_type": "code",
   "execution_count": 93,
   "metadata": {
    "slideshow": {
     "slide_type": "subslide"
    }
   },
   "outputs": [
    {
     "name": "stdout",
     "output_type": "stream",
     "text": [
      "As of this moment, there are 2789 many officially registered Julia packages..."
     ]
    }
   ],
   "source": [
    "using HTTP\n",
    "\n",
    "register_address = \"https://raw.githubusercontent.com/JuliaRegistries/General/master/Registry.toml\"\n",
    "response = String(HTTP.request(\"GET\", register_address).body);\n",
    "num_packages = count(s -> occursin(\"{ name\", s), split(response, '\\n'))\n",
    "\n",
    "print(\"As of this moment, there are \", num_packages,\n",
    "      \" many officially registered Julia packages...\")"
   ]
  },
  {
   "cell_type": "markdown",
   "metadata": {
    "slideshow": {
     "slide_type": "fragment"
    }
   },
   "source": [
    "Check out https://juliaobserver.com/ for curated lists of trending/popular/new packages. Sort by category, popularity etc."
   ]
  },
  {
   "cell_type": "markdown",
   "metadata": {
    "slideshow": {
     "slide_type": "subslide"
    }
   },
   "source": [
    "# What is Julia all about?"
   ]
  },
  {
   "cell_type": "markdown",
   "metadata": {
    "cell_style": "split",
    "slideshow": {
     "slide_type": "-"
    }
   },
   "source": [
    "![motto](figs/motto_julia.png)\n",
    "<span style=\"font-size:0.5em;\">source: julialang.org</span>"
   ]
  },
  {
   "cell_type": "markdown",
   "metadata": {
    "cell_style": "split",
    "slideshow": {
     "slide_type": "-"
    }
   },
   "source": [
    "![easy_to_use](figs/easy_to_use.png)\n",
    "<span style=\"font-size:0.5em;\">source: julialang.org</span>"
   ]
  },
  {
   "cell_type": "markdown",
   "metadata": {
    "cell_style": "center"
   },
   "source": [
    "![open_source](figs/open_source.png)\n",
    "<span style=\"font-size:0.5em;\">source: julialang.org</span>"
   ]
  },
  {
   "cell_type": "markdown",
   "metadata": {
    "slideshow": {
     "slide_type": "slide"
    }
   },
   "source": [
    "# But how fast?---you ask...\n",
    "\n",
    "### In extreme cases, petascale fast...\n",
    "![petascale_descrip](figs/petascale_descrip.png)\n",
    "<span style=\"font-size:0.5em;\">source: wikipedia</span>\n",
    "![patascale_example](figs/patascale_example.png)\n",
    "<span style=\"font-size:0.5em;\">source: wikipedia</span>"
   ]
  },
  {
   "cell_type": "markdown",
   "metadata": {
    "slideshow": {
     "slide_type": "subslide"
    }
   },
   "source": [
    "# Some benchmarks\n",
    "![benchamrks](figs/benchmarks.svg)\n",
    "<span style=\"font-size:0.5em;\">source: https://julialang.org/benchmarks/</span>"
   ]
  },
  {
   "cell_type": "code",
   "execution_count": 94,
   "metadata": {
    "slideshow": {
     "slide_type": "subslide"
    }
   },
   "outputs": [
    {
     "data": {
      "text/plain": [
       "BenchmarkTools.Trial: \n",
       "  memory estimate:  0 bytes\n",
       "  allocs estimate:  0\n",
       "  --------------\n",
       "  minimum time:     837.119 μs (0.00% GC)\n",
       "  median time:      925.184 μs (0.00% GC)\n",
       "  mean time:        989.931 μs (0.00% GC)\n",
       "  maximum time:     1.535 ms (0.00% GC)\n",
       "  --------------\n",
       "  samples:          100\n",
       "  evals/sample:     1"
      ]
     },
     "execution_count": 94,
     "metadata": {},
     "output_type": "execute_result"
    }
   ],
   "source": [
    "# Let's look at recursive Fibonacci\n",
    "function fibonacci(n::Int)\n",
    "    @assert n >= 0\n",
    "    n <= 1 && return n\n",
    "    fibonacci(n-1) + fibonacci(n-2)\n",
    "end\n",
    "\n",
    "using BenchmarkTools\n",
    "n = 25\n",
    "@benchmark fibonacci(n) samples=100"
   ]
  },
  {
   "cell_type": "code",
   "execution_count": 97,
   "metadata": {
    "slideshow": {
     "slide_type": "fragment"
    }
   },
   "outputs": [
    {
     "name": "stdout",
     "output_type": "stream",
     "text": [
      "  0.000916 seconds (5 allocations: 176 bytes)\n"
     ]
    },
    {
     "data": {
      "text/plain": [
       "75025"
      ]
     },
     "execution_count": 97,
     "metadata": {},
     "output_type": "execute_result"
    }
   ],
   "source": [
    "@time fibonacci(n)"
   ]
  },
  {
   "cell_type": "code",
   "execution_count": 103,
   "metadata": {
    "slideshow": {
     "slide_type": "subslide"
    }
   },
   "outputs": [
    {
     "data": {
      "text/plain": [
       "BenchmarkTools.Trial: \n",
       "  memory estimate:  0 bytes\n",
       "  allocs estimate:  0\n",
       "  --------------\n",
       "  minimum time:     446.689 ms (0.00% GC)\n",
       "  median time:      451.639 ms (0.00% GC)\n",
       "  mean time:        453.637 ms (0.00% GC)\n",
       "  maximum time:     464.437 ms (0.00% GC)\n",
       "  --------------\n",
       "  samples:          5\n",
       "  evals/sample:     1"
      ]
     },
     "execution_count": 103,
     "metadata": {},
     "output_type": "execute_result"
    }
   ],
   "source": [
    "# Let's approximate π using π = 4 Σₖ (-1)ᵏ⁺¹/(2k-1)\n",
    "function gregory_series(n::Int)\n",
    "    @assert n >= 0\n",
    "    pi = 0.0\n",
    "    s = -1.0\n",
    "    for i in 1:n\n",
    "        s *= -1.0\n",
    "        pi += s/(2*i-1)\n",
    "    end\n",
    "    pi\n",
    "end\n",
    "\n",
    "n = Int(1e8)\n",
    "@benchmark gregory_series(n) samples=5"
   ]
  },
  {
   "cell_type": "code",
   "execution_count": 106,
   "metadata": {
    "cell_style": "split",
    "slideshow": {
     "slide_type": "fragment"
    }
   },
   "outputs": [
    {
     "name": "stdout",
     "output_type": "stream",
     "text": [
      "  0.453253 seconds (5 allocations: 176 bytes)\n"
     ]
    },
    {
     "data": {
      "text/plain": [
       "0.7853981608973315"
      ]
     },
     "execution_count": 106,
     "metadata": {},
     "output_type": "execute_result"
    }
   ],
   "source": [
    "@time gregory_series(n)"
   ]
  },
  {
   "cell_type": "code",
   "execution_count": 14,
   "metadata": {
    "cell_style": "split",
    "slideshow": {
     "slide_type": "-"
    }
   },
   "outputs": [
    {
     "name": "stdout",
     "output_type": "stream",
     "text": [
      "The approximation error is: 1.0000467121074053e-8"
     ]
    }
   ],
   "source": [
    "# Just out of curiosity\n",
    "π_hat = 4*gregory_series(Int(1e8))\n",
    "print(\"The approximation error is: \", abs(π - π_hat))"
   ]
  },
  {
   "cell_type": "markdown",
   "metadata": {
    "slideshow": {
     "slide_type": "subslide"
    }
   },
   "source": [
    "# Importantly\n",
    "Coding is as simple as it is with `python` or `R` or `Matlab` i.e. it **substantially** simpler than, say, with `C++`"
   ]
  },
  {
   "cell_type": "markdown",
   "metadata": {
    "slideshow": {
     "slide_type": "slide"
    }
   },
   "source": [
    "### Characterisation of Julia\n",
    "* **Multiple dispatch** paradigm"
   ]
  },
  {
   "cell_type": "code",
   "execution_count": 108,
   "metadata": {
    "cell_style": "split",
    "slideshow": {
     "slide_type": "fragment"
    }
   },
   "outputs": [
    {
     "data": {
      "text/plain": [
       "modulus (generic function with 1 method)"
      ]
     },
     "execution_count": 108,
     "metadata": {},
     "output_type": "execute_result"
    }
   ],
   "source": [
    "function modulus(x::Float64)\n",
    "    print(\"Computing modulus of a float...\\n\")\n",
    "    if x > 0.0\n",
    "        return x\n",
    "    else\n",
    "        return -x\n",
    "    end\n",
    "end"
   ]
  },
  {
   "cell_type": "code",
   "execution_count": 109,
   "metadata": {
    "cell_style": "split",
    "slideshow": {
     "slide_type": "-"
    }
   },
   "outputs": [
    {
     "data": {
      "text/plain": [
       "modulus (generic function with 2 methods)"
      ]
     },
     "execution_count": 109,
     "metadata": {},
     "output_type": "execute_result"
    }
   ],
   "source": [
    "function modulus(x::Complex)\n",
    "    print(\"Computing modulus of a complex number...\\n\")\n",
    "    sqrt(real(x)^2 + imag(x)^2)\n",
    "end"
   ]
  },
  {
   "cell_type": "code",
   "execution_count": 111,
   "metadata": {
    "cell_style": "split",
    "slideshow": {
     "slide_type": "fragment"
    }
   },
   "outputs": [
    {
     "name": "stdout",
     "output_type": "stream",
     "text": [
      "Computing modulus of a float...\n"
     ]
    },
    {
     "data": {
      "text/plain": [
       "1.0"
      ]
     },
     "execution_count": 111,
     "metadata": {},
     "output_type": "execute_result"
    }
   ],
   "source": [
    "modulus(1.0)"
   ]
  },
  {
   "cell_type": "code",
   "execution_count": 112,
   "metadata": {
    "cell_style": "split",
    "slideshow": {
     "slide_type": "-"
    }
   },
   "outputs": [
    {
     "name": "stdout",
     "output_type": "stream",
     "text": [
      "Computing modulus of a complex number...\n"
     ]
    },
    {
     "data": {
      "text/plain": [
       "1.4142135623730951"
      ]
     },
     "execution_count": 112,
     "metadata": {},
     "output_type": "execute_result"
    }
   ],
   "source": [
    "modulus(1.0+1.0im)"
   ]
  },
  {
   "cell_type": "code",
   "execution_count": 113,
   "metadata": {
    "slideshow": {
     "slide_type": "fragment"
    }
   },
   "outputs": [
    {
     "ename": "MethodError",
     "evalue": "MethodError: no method matching modulus(::Rational{Int64})\nClosest candidates are:\n  modulus(!Matched::Float64) at In[109]:2\n  modulus(!Matched::Complex) at In[110]:2",
     "output_type": "error",
     "traceback": [
      "MethodError: no method matching modulus(::Rational{Int64})\nClosest candidates are:\n  modulus(!Matched::Float64) at In[109]:2\n  modulus(!Matched::Complex) at In[110]:2",
      "",
      "Stacktrace:",
      " [1] top-level scope at In[113]:1"
     ]
    }
   ],
   "source": [
    "modulus(1//6)"
   ]
  },
  {
   "cell_type": "markdown",
   "metadata": {
    "slideshow": {
     "slide_type": "subslide"
    }
   },
   "source": [
    "### Characterisation of Julia\n",
    "* **Multiple dispatch** paradigm\n",
    "* Dynamically typed"
   ]
  },
  {
   "cell_type": "code",
   "execution_count": 51,
   "metadata": {},
   "outputs": [
    {
     "name": "stdout",
     "output_type": "stream",
     "text": [
      "\n",
      "a=-3.0 is a Float64, let's compute its modulus:\n",
      "Computing modulus of a float...\n",
      "3.0\n",
      "\n",
      "\n",
      "Now a=3.0 + 4.0im is a Complex{Float64}, let's compute its modulus:\n",
      "Computing modulus of a complex number...\n",
      "5.0\n",
      "\n",
      "\n",
      "And now it is a string and it says: Hello\n",
      "\n"
     ]
    }
   ],
   "source": [
    "a = -3.0\n",
    "print(\"\\na=\", a, \" is a \", typeof(a), \", let's compute its modulus:\\n\"); print(modulus(a), \"\\n\\n\")\n",
    "a = Complex(3.0, 4.0)\n",
    "print(\"\\nNow a=\", a, \" is a \", typeof(a), \", let's compute its modulus:\\n\"); print(modulus(a), \"\\n\\n\")\n",
    "a = \"Hello\"\n",
    "print(\"\\nAnd now it is a string and it says: \", a, \"\\n\\n\")"
   ]
  },
  {
   "cell_type": "markdown",
   "metadata": {
    "slideshow": {
     "slide_type": "subslide"
    }
   },
   "source": [
    "### Characterisation of Julia\n",
    "* **Multiple dispatch** paradigm\n",
    "* Dynamically typed\n",
    "* Highly optimised JIT compiler"
   ]
  },
  {
   "cell_type": "markdown",
   "metadata": {
    "slideshow": {
     "slide_type": "fragment"
    }
   },
   "source": [
    "#### Some additional benefits\n",
    "* It is by design great for scientific computing with a thriving user community\n",
    "* Easy to parallelise, also on GPUs\n",
    "* Decent support for machine learning, statistics, data science\n",
    "* Support for many database types, distributed SQL, Hadoop etc.\n",
    "* Some nice visualisation tools"
   ]
  },
  {
   "cell_type": "markdown",
   "metadata": {
    "slideshow": {
     "slide_type": "subslide"
    }
   },
   "source": [
    "# So why Julia?\n",
    "* Simple\n",
    "* Fast\n",
    "* Everything that is implemented for Julia is by default writted in Julia\n",
    "* It has a growing scientific community"
   ]
  },
  {
   "cell_type": "markdown",
   "metadata": {
    "slideshow": {
     "slide_type": "slide"
    }
   },
   "source": [
    "## Overview of the syntax\n",
    "Highly encourage to check out\n",
    "- [Julia by example (by Samuel Colvin)](https://juliabyexample.helpmanual.io/)\n",
    "- [Julia by example (by Simon Danisch)](https://nextjournal.com/sdanisch/julia-by-example)\n",
    "- [**Julia documentation**](https://docs.julialang.org/en/v1/manual/getting-started/)"
   ]
  },
  {
   "cell_type": "markdown",
   "metadata": {
    "slideshow": {
     "slide_type": "fragment"
    }
   },
   "source": [
    "The following overview will be based mainly on Julia documentation"
   ]
  },
  {
   "cell_type": "markdown",
   "metadata": {
    "slideshow": {
     "slide_type": "slide"
    }
   },
   "source": [
    "### Variables"
   ]
  },
  {
   "cell_type": "code",
   "execution_count": 99,
   "metadata": {
    "cell_style": "split",
    "slideshow": {
     "slide_type": "-"
    }
   },
   "outputs": [
    {
     "data": {
      "text/plain": [
       "1"
      ]
     },
     "execution_count": 99,
     "metadata": {},
     "output_type": "execute_result"
    }
   ],
   "source": [
    "i_am_a_variable = 1"
   ]
  },
  {
   "cell_type": "code",
   "execution_count": 8,
   "metadata": {
    "cell_style": "split"
   },
   "outputs": [
    {
     "data": {
      "text/plain": [
       "\"i am now a string\""
      ]
     },
     "execution_count": 8,
     "metadata": {},
     "output_type": "execute_result"
    }
   ],
   "source": [
    "i_am_a_variable = \"i am now a string\""
   ]
  },
  {
   "cell_type": "code",
   "execution_count": 10,
   "metadata": {
    "cell_style": "split"
   },
   "outputs": [
    {
     "name": "stdout",
     "output_type": "stream",
     "text": [
      "δ: 10, typeof(δ): Int64, σ: 15.0, typeof(σ): Float64, δ + σ: 25.0, typeof(δ + σ): Float64"
     ]
    }
   ],
   "source": [
    "δ, σ = 10, 15.0\n",
    "print(\"δ: \", δ, \", typeof(δ): \", typeof(δ), \", σ: \", σ, \", typeof(σ): \", typeof(σ), \", δ + σ: \", δ + σ, \", typeof(δ + σ): \", typeof(δ + σ))"
   ]
  },
  {
   "cell_type": "code",
   "execution_count": 21,
   "metadata": {
    "cell_style": "split"
   },
   "outputs": [
    {
     "name": "stdout",
     "output_type": "stream",
     "text": [
      "value of π: 3.141592653589793value of Euler const (\\euler): 2.718281828459045\n"
     ]
    },
    {
     "ename": "ErrorException",
     "evalue": "cannot assign a value to variable MathConstants.ℯ from module Main",
     "output_type": "error",
     "traceback": [
      "cannot assign a value to variable MathConstants.ℯ from module Main",
      "",
      "Stacktrace:",
      " [1] top-level scope at In[21]:2"
     ]
    }
   ],
   "source": [
    "println(\"value of π: \", Float64(π), \"value of Euler const (\\\\euler): \", Float64(ℯ))\n",
    "ℯ = 2.71 # try to redefine a constant"
   ]
  },
  {
   "cell_type": "markdown",
   "metadata": {
    "cell_style": "center"
   },
   "source": [
    "Some other keywords that cannot be re-defined: `baremodule`, `begin`, `break`, `catch`, `const`, `continue`, `do`, `else`, `elseif`, `end`, `export`, `false`, `finally`, `for`, `function`, `global`, `if`, `import`, `let`, `local`, `macro`, `module`, `quote`, `return`, `struct`, `true`, `try`, `using`, `while`."
   ]
  },
  {
   "cell_type": "markdown",
   "metadata": {
    "cell_style": "center",
    "slideshow": {
     "slide_type": "subslide"
    }
   },
   "source": [
    "Usual, primitive numeric types: `Int8`, `UInt8`, `Int16`, `UInt16`, `Int32`, `UInt32`, `Int64`, `UInt64`, `Int128`, `UInt128`, `Bool`, `Float16`, `Float32`, `Float64`\n",
    "\n",
    "Additionally: `Complex`, `Rational`, `BigInt`, `BigFloat`, `Inf`, `NaN`"
   ]
  },
  {
   "cell_type": "markdown",
   "metadata": {
    "slideshow": {
     "slide_type": "fragment"
    }
   },
   "source": [
    "Maths operations have a usual syntax (with ^ denoting power):"
   ]
  },
  {
   "cell_type": "code",
   "execution_count": 34,
   "metadata": {},
   "outputs": [
    {
     "data": {
      "text/plain": [
       "10.3"
      ]
     },
     "execution_count": 34,
     "metadata": {},
     "output_type": "execute_result"
    }
   ],
   "source": [
    "x = 2\n",
    "(x-1)*3^2 + (x^x-1)/2 - 0.2"
   ]
  },
  {
   "cell_type": "markdown",
   "metadata": {
    "slideshow": {
     "slide_type": "subslide"
    }
   },
   "source": [
    "### Arrays and broadcasting"
   ]
  },
  {
   "cell_type": "code",
   "execution_count": 6,
   "metadata": {},
   "outputs": [
    {
     "data": {
      "text/plain": [
       "3-element Array{Float64,1}:\n",
       " 3.0\n",
       " 6.0\n",
       " 9.0"
      ]
     },
     "execution_count": 6,
     "metadata": {},
     "output_type": "execute_result"
    }
   ],
   "source": [
    "v = [1,2,3]\n",
    "v .* 3.0 # `.` is a broadcast operator, equivalent to [1*3.0, 2*3.0, 3*3.0]"
   ]
  },
  {
   "cell_type": "code",
   "execution_count": 7,
   "metadata": {
    "cell_style": "split"
   },
   "outputs": [
    {
     "data": {
      "text/plain": [
       "3-element BitArray{1}:\n",
       " 1\n",
       " 0\n",
       " 0"
      ]
     },
     "execution_count": 7,
     "metadata": {},
     "output_type": "execute_result"
    }
   ],
   "source": [
    "v .== 1 # !=, <, >, <=, >="
   ]
  },
  {
   "cell_type": "code",
   "execution_count": 8,
   "metadata": {
    "cell_style": "split"
   },
   "outputs": [
    {
     "data": {
      "text/plain": [
       "3-element BitArray{1}:\n",
       " 0\n",
       " 1\n",
       " 0"
      ]
     },
     "execution_count": 8,
     "metadata": {},
     "output_type": "execute_result"
    }
   ],
   "source": [
    "isequal.(v, 2)"
   ]
  },
  {
   "cell_type": "code",
   "execution_count": 9,
   "metadata": {
    "cell_style": "split"
   },
   "outputs": [
    {
     "data": {
      "text/plain": [
       "3-element Array{Int64,1}:\n",
       " 2\n",
       " 4\n",
       " 6"
      ]
     },
     "execution_count": 9,
     "metadata": {},
     "output_type": "execute_result"
    }
   ],
   "source": [
    "v .+ v"
   ]
  },
  {
   "cell_type": "code",
   "execution_count": 10,
   "metadata": {
    "cell_style": "center",
    "slideshow": {
     "slide_type": "subslide"
    }
   },
   "outputs": [
    {
     "data": {
      "text/plain": [
       "2×2 Array{Float64,2}:\n",
       "  1.0  2.0\n",
       " -1.0  3.0"
      ]
     },
     "execution_count": 10,
     "metadata": {},
     "output_type": "execute_result"
    }
   ],
   "source": [
    "using LinearAlgebra\n",
    "m = [1.0 2.0; -1.0 3.0] # stores in column major order"
   ]
  },
  {
   "cell_type": "code",
   "execution_count": 11,
   "metadata": {
    "slideshow": {
     "slide_type": "-"
    }
   },
   "outputs": [
    {
     "data": {
      "text/plain": [
       "2×2 Array{Float64,2}:\n",
       " 0.6  -0.4\n",
       " 0.2   0.2"
      ]
     },
     "metadata": {},
     "output_type": "display_data"
    },
    {
     "data": {
      "text/plain": [
       "2×2 Array{Float64,2}:\n",
       " 2.0  1.0\n",
       " 1.0  6.0"
      ]
     },
     "metadata": {},
     "output_type": "display_data"
    },
    {
     "data": {
      "text/plain": [
       "11.0"
      ]
     },
     "metadata": {},
     "output_type": "display_data"
    },
    {
     "data": {
      "text/plain": [
       "2-element Array{Float64,1}:\n",
       " 0.19999999999999996\n",
       " 0.4                "
      ]
     },
     "metadata": {},
     "output_type": "display_data"
    },
    {
     "data": {
      "text/plain": [
       "2-element Array{Float64,1}:\n",
       " 0.19999999999999996\n",
       " 0.4                "
      ]
     },
     "metadata": {},
     "output_type": "display_data"
    },
    {
     "data": {
      "text/plain": [
       "Cholesky{Float64,Array{Float64,2}}\n",
       "U factor:\n",
       "2×2 UpperTriangular{Float64,Array{Float64,2}}:\n",
       " 1.41421  0.707107\n",
       "  ⋅       2.34521 "
      ]
     },
     "metadata": {},
     "output_type": "display_data"
    },
    {
     "data": {
      "text/plain": [
       "7.0"
      ]
     },
     "metadata": {},
     "output_type": "display_data"
    }
   ],
   "source": [
    "display.([inv(m), m+m', det(m+m'), m\\[1.0, 1.0], inv(m)*[1.0, 1.0], cholesky(m+m'), norm(m, 1)])\n",
    "print() # don't mind me"
   ]
  },
  {
   "cell_type": "markdown",
   "metadata": {},
   "source": [
    "This is a VERY extensive package, with a tonne of optimized algorithms... https://docs.julialang.org/en/v1/stdlib/LinearAlgebra/"
   ]
  },
  {
   "cell_type": "code",
   "execution_count": 12,
   "metadata": {
    "cell_style": "split",
    "slideshow": {
     "slide_type": "subslide"
    }
   },
   "outputs": [
    {
     "data": {
      "text/plain": [
       "2×2 Array{Float64,2}:\n",
       "  1.0  2.0\n",
       " -1.0  3.0"
      ]
     },
     "execution_count": 12,
     "metadata": {},
     "output_type": "execute_result"
    }
   ],
   "source": [
    "m"
   ]
  },
  {
   "cell_type": "code",
   "execution_count": 13,
   "metadata": {
    "cell_style": "split",
    "slideshow": {
     "slide_type": "-"
    }
   },
   "outputs": [
    {
     "data": {
      "text/plain": [
       "(1.0, 2.0, -1.0, 3.0)"
      ]
     },
     "execution_count": 13,
     "metadata": {},
     "output_type": "execute_result"
    }
   ],
   "source": [
    "m[1,1], m[1,2], m[2,1], m[2,2]"
   ]
  },
  {
   "cell_type": "code",
   "execution_count": 14,
   "metadata": {
    "cell_style": "split",
    "slideshow": {
     "slide_type": "-"
    }
   },
   "outputs": [
    {
     "data": {
      "text/plain": [
       "2×2 Array{Float64,2}:\n",
       " -0.001  0.0\n",
       " 10.0    0.0"
      ]
     },
     "execution_count": 14,
     "metadata": {},
     "output_type": "execute_result"
    }
   ],
   "source": [
    "m[1,1] = -0.001\n",
    "m[2] = 10 # remember column major!\n",
    "m[:,2] .= 0.0 # broadcasting assignment operation\n",
    "m"
   ]
  },
  {
   "cell_type": "markdown",
   "metadata": {
    "cell_style": "center",
    "slideshow": {
     "slide_type": "subslide"
    }
   },
   "source": [
    "### Tuples, dictionaries"
   ]
  },
  {
   "cell_type": "code",
   "execution_count": 15,
   "metadata": {
    "cell_style": "split",
    "slideshow": {
     "slide_type": "-"
    }
   },
   "outputs": [
    {
     "data": {
      "text/plain": [
       "(1, \"MPI\", 0.3 + 0.2im, [1.0, 2.0])"
      ]
     },
     "execution_count": 15,
     "metadata": {},
     "output_type": "execute_result"
    }
   ],
   "source": [
    "tup = (1, \"MPI\", 0.3+0.2im, [1.0, 2.0])"
   ]
  },
  {
   "cell_type": "code",
   "execution_count": 16,
   "metadata": {
    "cell_style": "split"
   },
   "outputs": [
    {
     "ename": "MethodError",
     "evalue": "MethodError: no method matching setindex!(::Tuple{Int64,String,Complex{Float64},Array{Float64,1}}, ::Float64, ::Int64)",
     "output_type": "error",
     "traceback": [
      "MethodError: no method matching setindex!(::Tuple{Int64,String,Complex{Float64},Array{Float64,1}}, ::Float64, ::Int64)",
      "",
      "Stacktrace:",
      " [1] top-level scope at In[16]:1"
     ]
    }
   ],
   "source": [
    "tup[1] = 1.0"
   ]
  },
  {
   "cell_type": "code",
   "execution_count": 17,
   "metadata": {
    "cell_style": "split"
   },
   "outputs": [
    {
     "data": {
      "text/plain": [
       "(1, \"MPI\", 0.3 + 0.2im, [10.0, 2.0])"
      ]
     },
     "execution_count": 17,
     "metadata": {},
     "output_type": "execute_result"
    }
   ],
   "source": [
    "tup[4][1] = 10\n",
    "tup"
   ]
  },
  {
   "cell_type": "code",
   "execution_count": 18,
   "metadata": {
    "cell_style": "split",
    "slideshow": {
     "slide_type": "fragment"
    }
   },
   "outputs": [
    {
     "data": {
      "text/plain": [
       "Dict{String,Int64} with 2 entries:\n",
       "  \"B\" => 2\n",
       "  \"A\" => 1"
      ]
     },
     "execution_count": 18,
     "metadata": {},
     "output_type": "execute_result"
    }
   ],
   "source": [
    "dict = Dict(\"A\"=>1, \"B\"=>2)"
   ]
  },
  {
   "cell_type": "code",
   "execution_count": 19,
   "metadata": {
    "cell_style": "split"
   },
   "outputs": [
    {
     "data": {
      "text/plain": [
       "(1, [\"B\", \"A\"], [2, 1])"
      ]
     },
     "execution_count": 19,
     "metadata": {},
     "output_type": "execute_result"
    }
   ],
   "source": [
    "dict[\"A\"], keys(dict), values(dict)"
   ]
  },
  {
   "cell_type": "code",
   "execution_count": 20,
   "metadata": {
    "cell_style": "split"
   },
   "outputs": [
    {
     "data": {
      "text/plain": [
       "Dict{String,Int64} with 2 entries:\n",
       "  \"B\" => 100\n",
       "  \"A\" => 1"
      ]
     },
     "execution_count": 20,
     "metadata": {},
     "output_type": "execute_result"
    }
   ],
   "source": [
    "dict[\"B\"] = 100\n",
    "dict"
   ]
  },
  {
   "cell_type": "markdown",
   "metadata": {
    "slideshow": {
     "slide_type": "slide"
    }
   },
   "source": [
    "### Functions"
   ]
  },
  {
   "cell_type": "code",
   "execution_count": 21,
   "metadata": {
    "cell_style": "split"
   },
   "outputs": [
    {
     "data": {
      "text/plain": [
       "(5, 2)"
      ]
     },
     "execution_count": 21,
     "metadata": {},
     "output_type": "execute_result"
    }
   ],
   "source": [
    "function add(x, y)\n",
    "    x + y\n",
    "end\n",
    "subtract(x,y) = x-y\n",
    "add(2,3), subtract(10,8)"
   ]
  },
  {
   "cell_type": "code",
   "execution_count": 22,
   "metadata": {
    "cell_style": "split"
   },
   "outputs": [
    {
     "data": {
      "text/plain": [
       "2"
      ]
     },
     "execution_count": 22,
     "metadata": {},
     "output_type": "execute_result"
    }
   ],
   "source": [
    "new_subtract = subtract\n",
    "new_subtract(5,3)"
   ]
  },
  {
   "cell_type": "code",
   "execution_count": 23,
   "metadata": {
    "cell_style": "split"
   },
   "outputs": [
    {
     "name": "stdout",
     "output_type": "stream",
     "text": [
      "the first evaluation: 1.5\n",
      "the second evaluation: 9.0\n"
     ]
    }
   ],
   "source": [
    "drift(x) = -0.5*x\n",
    "increment(x, g) = x + g(x)\n",
    "println(\"the first evaluation: \", increment(3.0, drift)) # 3.0 + (-0.5*3.0)\n",
    "\n",
    "# and passing anonymous functions\n",
    "println(\"the second evaluation: \", increment(3.0, x->2.0*x)) # 3.0 + (2.0*3.0)"
   ]
  },
  {
   "cell_type": "code",
   "execution_count": 24,
   "metadata": {
    "cell_style": "split",
    "slideshow": {
     "slide_type": "fragment"
    }
   },
   "outputs": [
    {
     "data": {
      "text/plain": [
       "1.4142135623730951"
      ]
     },
     "execution_count": 24,
     "metadata": {},
     "output_type": "execute_result"
    }
   ],
   "source": [
    "function l2_dist(x::Vector{Float64}, y::Vector{Float64})::Float64\n",
    "    return sqrt(sum((x .- y).^2))\n",
    "    println(\"this will never be printed because after return...\")\n",
    "end\n",
    "l2_dist([1.0, 2.0], [2.0, 3.0])"
   ]
  },
  {
   "cell_type": "code",
   "execution_count": 25,
   "metadata": {
    "cell_style": "split"
   },
   "outputs": [
    {
     "ename": "MethodError",
     "evalue": "MethodError: no method matching l2_dist(::Array{Int64,1}, ::Array{Float64,1})\nClosest candidates are:\n  l2_dist(!Matched::Array{Float64,1}, ::Array{Float64,1}) at In[24]:2",
     "output_type": "error",
     "traceback": [
      "MethodError: no method matching l2_dist(::Array{Int64,1}, ::Array{Float64,1})\nClosest candidates are:\n  l2_dist(!Matched::Array{Float64,1}, ::Array{Float64,1}) at In[24]:2",
      "",
      "Stacktrace:",
      " [1] top-level scope at In[25]:1"
     ]
    }
   ],
   "source": [
    "l2_dist([1, 2], [2.0, 3.0])"
   ]
  },
  {
   "cell_type": "code",
   "execution_count": 26,
   "metadata": {
    "cell_style": "split",
    "slideshow": {
     "slide_type": "subslide"
    }
   },
   "outputs": [
    {
     "data": {
      "text/plain": [
       "(true, (10, true), (10, true))"
      ]
     },
     "execution_count": 26,
     "metadata": {},
     "output_type": "execute_result"
    }
   ],
   "source": [
    "foo(x::Float64) = 10\n",
    "foo(x::Int64) = true\n",
    "foo(10), foo.((1.0, 10)), map(foo, (1.0, 10))"
   ]
  },
  {
   "cell_type": "code",
   "execution_count": 27,
   "metadata": {
    "cell_style": "split"
   },
   "outputs": [
    {
     "data": {
      "text/plain": [
       "(11, 12)"
      ]
     },
     "execution_count": 27,
     "metadata": {},
     "output_type": "execute_result"
    }
   ],
   "source": [
    "# default values\n",
    "default_increm(x, y=1) = x+y\n",
    "default_increm(10), default_increm(10,2)"
   ]
  },
  {
   "cell_type": "code",
   "execution_count": 28,
   "metadata": {
    "cell_style": "split"
   },
   "outputs": [
    {
     "data": {
      "text/plain": [
       "(10.0, 0.0, 2.0)"
      ]
     },
     "execution_count": 28,
     "metadata": {},
     "output_type": "execute_result"
    }
   ],
   "source": [
    "# variable length\n",
    "function alter_sum(args...)\n",
    "    total = 0.0\n",
    "    s = -1.0\n",
    "    for arg in args\n",
    "        s = -s\n",
    "        total += s*arg\n",
    "    end\n",
    "    total\n",
    "end\n",
    "alter_sum(10), alter_sum(10, 10),\n",
    "alter_sum(10, 10, 1.0, 2.0, 3.0)"
   ]
  },
  {
   "cell_type": "code",
   "execution_count": 29,
   "metadata": {
    "cell_style": "split"
   },
   "outputs": [
    {
     "name": "stdout",
     "output_type": "stream",
     "text": [
      "apples: free\n",
      "And another call...\n",
      "apples: €2.00\n",
      "bananas: €1.00\n",
      "oranges: €2.50\n"
     ]
    }
   ],
   "source": [
    "# keyword arguments, variable length keyword arguments\n",
    "function disp_prod(produce; cost=\"free\", kwargs...)\n",
    "    println(produce, \": \", cost)\n",
    "    for key in keys(kwargs)\n",
    "        println(key, \": \", kwargs[key])\n",
    "    end\n",
    "end\n",
    "\n",
    "disp_prod(\"apples\")\n",
    "println(\"And another call...\")\n",
    "disp_prod(\"apples\", cost=\"€2.00\",\n",
    "          bananas=\"€1.00\", oranges=\"€2.50\")"
   ]
  },
  {
   "cell_type": "markdown",
   "metadata": {
    "slideshow": {
     "slide_type": "subslide"
    }
   },
   "source": [
    "### Control Flow"
   ]
  },
  {
   "cell_type": "code",
   "execution_count": 30,
   "metadata": {
    "cell_style": "split"
   },
   "outputs": [
    {
     "name": "stdout",
     "output_type": "stream",
     "text": [
      "10 is less than 12\n",
      "12 is greater than 10\n",
      "10 is equal to 10\n"
     ]
    }
   ],
   "source": [
    "function compare(x, y)\n",
    "    if x < y\n",
    "        println(\"$(x) is less than $(y)\")\n",
    "    elseif x > y\n",
    "        println(\"$(x) is greater than $(y)\")\n",
    "    else\n",
    "        println(\"$(x) is equal to $(y)\")\n",
    "    end\n",
    "end\n",
    "compare(10, 12)\n",
    "compare(12, 10)\n",
    "compare(10, 10)"
   ]
  },
  {
   "cell_type": "code",
   "execution_count": 31,
   "metadata": {
    "cell_style": "split"
   },
   "outputs": [
    {
     "name": "stdout",
     "output_type": "stream",
     "text": [
      "10 is less than 12\n",
      "12 is greater than or equal to 10\n"
     ]
    }
   ],
   "source": [
    "function compare_short(x, y)\n",
    "    results = [\"less than\", \"greater than or equal to\"]\n",
    "    result = (x < y ? results[1] : results[2])\n",
    "    println(\"$(x) is \", result, \" $(y)\")\n",
    "end\n",
    "compare_short(10, 12)\n",
    "compare_short(12, 10)"
   ]
  },
  {
   "cell_type": "code",
   "execution_count": 32,
   "metadata": {},
   "outputs": [
    {
     "name": "stdout",
     "output_type": "stream",
     "text": [
      "√9: 3.0\n",
      "√-1: 0.0 + 1.0im\n"
     ]
    },
    {
     "ename": "ErrorException",
     "evalue": "x must be positive or Complex",
     "output_type": "error",
     "traceback": [
      "x must be positive or Complex",
      "",
      "Stacktrace:",
      " [1] error(::String) at ./error.jl:33",
      " [2] sqare_root(::Float64) at ./In[32]:3",
      " [3] top-level scope at In[32]:8"
     ]
    }
   ],
   "source": [
    "function sqare_root(x::Number)\n",
    "    # often && is used as well\n",
    "    typeof(x) <: Complex || x >= 0 || error(\"x must be positive or Complex\")\n",
    "    sqrt(x)\n",
    "end\n",
    "\n",
    "println(\"√9: \", sqare_root(9), \"\\n√-1: \", sqare_root(-1.0+0.0im))\n",
    "sqare_root(-1.0)"
   ]
  },
  {
   "cell_type": "code",
   "execution_count": 33,
   "metadata": {
    "slideshow": {
     "slide_type": "slide"
    }
   },
   "outputs": [
    {
     "data": {
      "text/plain": [
       "unif_on_circle (generic function with 1 method)"
      ]
     },
     "execution_count": 33,
     "metadata": {},
     "output_type": "execute_result"
    }
   ],
   "source": [
    "using Distributions\n",
    "function unif_on_circle(;radius=1.0)\n",
    "    while true\n",
    "        draw_on_a_square = rand(Uniform(-radius, radius), 2)\n",
    "        norm(draw_on_a_square, 2) < radius && return draw_on_a_square\n",
    "    end\n",
    "end"
   ]
  },
  {
   "cell_type": "code",
   "execution_count": 34,
   "metadata": {},
   "outputs": [
    {
     "data": {
      "image/png": "[encoded data removed]",
      "text/plain": [
       "Figure(PyObject <Figure size 500x500 with 1 Axes>)"
      ]
     },
     "metadata": {},
     "output_type": "display_data"
    }
   ],
   "source": [
    "using PyPlot\n",
    "r = 2.0\n",
    "some_draws = hcat([unif_on_circle(radius=r) for i in 1:1e4]...)\n",
    "fig, ax = subplots(1, figsize=(5,5))\n",
    "ax.scatter(some_draws[1,:], some_draws[2,:], alpha=0.2) # plot the draws\n",
    "xaxis, semi_circle = -r:0.01:r, (@. sqrt(r^2 - (-r:0.01:r)^2))\n",
    "ax.plot(xaxis, semi_circle, color=\"orange\", linestyle=\"dashed\") # plot the upper semi-circle\n",
    "ax.plot(xaxis, -semi_circle, color=\"orange\", linestyle=\"dashed\") # plot the lower semi-circle\n",
    "show()"
   ]
  },
  {
   "cell_type": "markdown",
   "metadata": {
    "slideshow": {
     "slide_type": "subslide"
    }
   },
   "source": [
    "More conventionally..."
   ]
  },
  {
   "cell_type": "code",
   "execution_count": 35,
   "metadata": {
    "cell_style": "split"
   },
   "outputs": [
    {
     "name": "stdout",
     "output_type": "stream",
     "text": [
      "now the counter is 5\n"
     ]
    }
   ],
   "source": [
    "begin\n",
    "    counter = 0\n",
    "    while counter < 5\n",
    "        counter += 1\n",
    "    end\n",
    "    println(\"now the counter is $(counter)\")\n",
    "end"
   ]
  },
  {
   "cell_type": "code",
   "execution_count": 36,
   "metadata": {
    "cell_style": "split"
   },
   "outputs": [
    {
     "ename": "LoadError",
     "evalue": "syntax: incomplete: \"while\" at none:1 requires end",
     "output_type": "error",
     "traceback": [
      "syntax: incomplete: \"while\" at none:1 requires end",
      ""
     ]
    }
   ],
   "source": [
    "counter = 0\n",
    "while counter < 10\n",
    "    counter += 1\n",
    "    if counter == 4\n",
    "        break\n",
    "    end\n",
    "end\n",
    "println(\"now the counter is $(counter)\")"
   ]
  },
  {
   "cell_type": "code",
   "execution_count": 37,
   "metadata": {
    "cell_style": "split",
    "slideshow": {
     "slide_type": "fragment"
    }
   },
   "outputs": [
    {
     "name": "stdout",
     "output_type": "stream",
     "text": [
      "element: 1\n",
      "element: 2\n",
      "element: 3\n",
      "element: 4\n",
      "notice that passed by value, as v is: [1, 2, 3, 4]\n"
     ]
    }
   ],
   "source": [
    "v = [1, 2, 3, 4]\n",
    "for element in v\n",
    "    println(\"element: \", element)\n",
    "    element = 10\n",
    "end\n",
    "println(\"notice that passed by value, as v is: \", v)"
   ]
  },
  {
   "cell_type": "code",
   "execution_count": 38,
   "metadata": {
    "cell_style": "split"
   },
   "outputs": [
    {
     "data": {
      "text/plain": [
       "(1, 6, 3628800)"
      ]
     },
     "execution_count": 38,
     "metadata": {},
     "output_type": "execute_result"
    }
   ],
   "source": [
    "function factorial(n::Integer)\n",
    "    n == 0 && return 1\n",
    "    n <= 0 && error(\"n must be positive...\")\n",
    "    x = 1\n",
    "    for i=1:n\n",
    "        x *= i\n",
    "    end\n",
    "    x\n",
    "end\n",
    "factorial(0), factorial(3), factorial(10)"
   ]
  },
  {
   "cell_type": "markdown",
   "metadata": {
    "slideshow": {
     "slide_type": "subslide"
    }
   },
   "source": [
    "### Types & methods\n",
    "use of `::` operator"
   ]
  },
  {
   "cell_type": "code",
   "execution_count": 39,
   "metadata": {
    "cell_style": "split"
   },
   "outputs": [
    {
     "data": {
      "text/plain": [
       "4"
      ]
     },
     "execution_count": 39,
     "metadata": {},
     "output_type": "execute_result"
    }
   ],
   "source": [
    "(2+2)::Int64 # assertion"
   ]
  },
  {
   "cell_type": "code",
   "execution_count": 40,
   "metadata": {
    "cell_style": "split"
   },
   "outputs": [
    {
     "data": {
      "text/plain": [
       "true"
      ]
     },
     "execution_count": 40,
     "metadata": {},
     "output_type": "execute_result"
    }
   ],
   "source": [
    "abstract type Object end\n",
    "abstract type GeomObject <: Object end\n",
    "\n",
    "Integer <: Number"
   ]
  },
  {
   "cell_type": "code",
   "execution_count": 41,
   "metadata": {
    "cell_style": "split"
   },
   "outputs": [
    {
     "data": {
      "text/plain": [
       "(Point2D(3.0, 4.0), Point([0.0]), Point([1.0, 2.0, 3.0]))"
      ]
     },
     "execution_count": 41,
     "metadata": {},
     "output_type": "execute_result"
    }
   ],
   "source": [
    "struct Point2D <: GeomObject\n",
    "    x::Float64\n",
    "    y::Float64\n",
    "end\n",
    "\n",
    "struct Point <: GeomObject\n",
    "    x::Vector{Float64}\n",
    "    \n",
    "    Point(x::Number) = new([Float64(x)])\n",
    "    Point(x::Vector) = new(Float64.(x))\n",
    "end\n",
    "points = Point2D(3,4), Point(0), Point([1,2,3])"
   ]
  },
  {
   "cell_type": "code",
   "execution_count": 42,
   "metadata": {
    "cell_style": "split"
   },
   "outputs": [
    {
     "data": {
      "text/plain": [
       "(2, 1, 3)"
      ]
     },
     "execution_count": 42,
     "metadata": {},
     "output_type": "execute_result"
    }
   ],
   "source": [
    "dim(p::Point2D) = 2\n",
    "dim(p::Point) = length(p.x)\n",
    "\n",
    "dim.(points)"
   ]
  },
  {
   "cell_type": "code",
   "execution_count": 43,
   "metadata": {
    "cell_style": "split"
   },
   "outputs": [
    {
     "data": {
      "text/plain": [
       "((7.0, 0.0, 6.0), (4.0, 0.0, 3.0))"
      ]
     },
     "execution_count": 43,
     "metadata": {},
     "output_type": "execute_result"
    }
   ],
   "source": [
    "import LinearAlgebra: norm\n",
    "norm(p::Point2D, q::Real=2) = norm([p.x, p.y], q)\n",
    "norm(p::Point, q::Real=2) = norm(p.x, q)\n",
    "norm.(points, 1), norm.(points, Inf)"
   ]
  },
  {
   "cell_type": "code",
   "execution_count": 44,
   "metadata": {},
   "outputs": [
    {
     "data": {
      "text/plain": [
       "(5.0, 0.0, 3.7416573867739413)"
      ]
     },
     "execution_count": 44,
     "metadata": {},
     "output_type": "execute_result"
    }
   ],
   "source": [
    "# Type Unions:\n",
    "dist_from_origin(p::Union{Point2D, Point}) = norm(p, 2)\n",
    "dist_from_origin.(points)"
   ]
  },
  {
   "cell_type": "code",
   "execution_count": 45,
   "metadata": {
    "cell_style": "center",
    "slideshow": {
     "slide_type": "subslide"
    }
   },
   "outputs": [
    {
     "ename": "ErrorException",
     "evalue": "setfield! immutable struct of type Point2D cannot be changed",
     "output_type": "error",
     "traceback": [
      "setfield! immutable struct of type Point2D cannot be changed",
      "",
      "Stacktrace:",
      " [1] setproperty!(::Point2D, ::Symbol, ::Int64) at ./Base.jl:21",
      " [2] top-level scope at In[45]:1"
     ]
    }
   ],
   "source": [
    "# notice that structs are immutable:\n",
    "points[1].x = 10"
   ]
  },
  {
   "cell_type": "code",
   "execution_count": 46,
   "metadata": {},
   "outputs": [
    {
     "name": "stdout",
     "output_type": "stream",
     "text": [
      "Mutable point: MPoint2D(3.0, 4.0)\n",
      "It is now: MPoint2D(10.0, 4.0)\n"
     ]
    }
   ],
   "source": [
    "# but there are mutable structs:\n",
    "mutable struct MPoint2D <: GeomObject\n",
    "    x::Float64\n",
    "    y::Float64\n",
    "end\n",
    "p = MPoint2D(3.0, 4.0)\n",
    "println(\"Mutable point: \", p)\n",
    "p.x = 10\n",
    "println(\"It is now: \", p)"
   ]
  },
  {
   "cell_type": "markdown",
   "metadata": {
    "slideshow": {
     "slide_type": "subslide"
    }
   },
   "source": [
    "### Parametric types\n",
    "Analog to templates, a very powerful concept!"
   ]
  },
  {
   "cell_type": "code",
   "execution_count": 73,
   "metadata": {},
   "outputs": [],
   "source": [
    "struct BrownianMotion{T} <: GeomObject\n",
    "    time::Vector{Float64}\n",
    "    path::Vector{T}\n",
    "    function BrownianMotion(time, x0::T) where T\n",
    "        path = repeat([x0], length(time))\n",
    "        sample_bm!(time, path)\n",
    "        new{T}(time, path)\n",
    "    end\n",
    "end\n",
    "\n",
    "function sample_bm!(time, path)\n",
    "    for i in 2:length(path)\n",
    "        x = path[i-1]\n",
    "        dt = time[i]-time[i-1]\n",
    "        path[i] = x + sqrt(dt)*randn(typeof(x))\n",
    "    end\n",
    "end\n",
    "\n",
    "using StaticArrays\n",
    "real_BM = BrownianMotion(0.0:0.01:1.0, 0.0)\n",
    "complex_BM = BrownianMotion(0.0:0.01:1.0, 0.0+0.0im)\n",
    "multidim_BM = BrownianMotion(0.0:0.01:1.0, @SVector zeros(5))\n",
    "multidim_complex_BM = BrownianMotion(0.0:0.01:1.0, @SVector zeros(Complex{Float64}, 3))\n",
    "print() # don't mind me"
   ]
  },
  {
   "cell_type": "markdown",
   "metadata": {
    "slideshow": {
     "slide_type": "subslide"
    }
   },
   "source": [
    "There is **much, much** more to `Julia`\n",
    "* more advance uses of what I've shown\n",
    "* mutliple other functionalities, some of them very elaborate\n",
    "* a very broad list of standard maths functions and algorithms that are implemented in Julia\n",
    "* little tricks that simplify programmer's life and many others\n",
    "(see https://docs.julialang.org/en/v1/ for a comprehensive overview)\n",
    "\n",
    "**But** these more advance techniques **are not essential** to start programming with `Julia` and benefit from many existing packages..."
   ]
  },
  {
   "cell_type": "markdown",
   "metadata": {
    "slideshow": {
     "slide_type": "fragment"
    }
   },
   "source": [
    "Best way is to start and practice..."
   ]
  },
  {
   "cell_type": "markdown",
   "metadata": {
    "slideshow": {
     "slide_type": "fragment"
    }
   },
   "source": [
    "And know how to use `google`, `stackoverflow`, `stackexchange`, `Slack`..."
   ]
  },
  {
   "cell_type": "markdown",
   "metadata": {
    "slideshow": {
     "slide_type": "slide"
    }
   },
   "source": [
    "# Universe of Julia packages\n",
    "* It's vast...\n",
    "* You can combine packages with one another to generate code on the fly and obtain new use cases\n",
    "* Everything is written in Julia, so very easy to modify to your needs..."
   ]
  },
  {
   "cell_type": "markdown",
   "metadata": {},
   "source": [
    "Of course, standard packages, such as:\n",
    "* Distributions.jl\n",
    "* LinearAlgebra.jl\n",
    "* Profile.jl\n",
    "* DelimitedFiles.jl\n",
    "* CSV.jl\n",
    "* DataFrames.jl\n",
    "* Optim.jl\n",
    "* and many others..."
   ]
  },
  {
   "cell_type": "markdown",
   "metadata": {
    "slideshow": {
     "slide_type": "subslide"
    }
   },
   "source": [
    "To install new a package either write:"
   ]
  },
  {
   "cell_type": "code",
   "execution_count": 91,
   "metadata": {
    "cell_style": "split"
   },
   "outputs": [
    {
     "name": "stdout",
     "output_type": "stream",
     "text": [
      "\u001b[32m\u001b[1m Resolving\u001b[22m\u001b[39m package versions...\n",
      "\u001b[32m\u001b[1m  Updating\u001b[22m\u001b[39m `~/.julia/environments/v1.3/Project.toml`\n",
      "\u001b[90m [no changes]\u001b[39m\n",
      "\u001b[32m\u001b[1m  Updating\u001b[22m\u001b[39m `~/.julia/environments/v1.3/Manifest.toml`\n",
      "\u001b[90m [no changes]\u001b[39m\n"
     ]
    },
    {
     "data": {
      "text/plain": [
       "2.41927450573826"
      ]
     },
     "execution_count": 91,
     "metadata": {},
     "output_type": "execute_result"
    }
   ],
   "source": [
    "using Pkg\n",
    "package_name = \"Distributions\"\n",
    "Pkg.add(package_name)\n",
    "# now we can use it:\n",
    "using Distributions, Random\n",
    "Random.seed!(42)\n",
    "rand(Exponential(3.0))"
   ]
  },
  {
   "cell_type": "markdown",
   "metadata": {
    "cell_style": "split"
   },
   "source": [
    "or use a package environment accessed via `]`, i.e. write `] add Distributions`, I think this cannot be done via jupyter notebooks"
   ]
  },
  {
   "cell_type": "markdown",
   "metadata": {
    "slideshow": {
     "slide_type": "subslide"
    }
   },
   "source": [
    "[DifferentialEquations.jl](https://docs.juliadiffeq.org/latest/)\n",
    "![diff_eqns](figs/diff_eqns.png)\n",
    "<span style=\"font-size:0.5em;\">https://github.com/JuliaDiffEq/DifferentialEquations.jl</span>"
   ]
  },
  {
   "cell_type": "markdown",
   "metadata": {
    "slideshow": {
     "slide_type": "subslide"
    }
   },
   "source": [
    "| ![flux](figs/flux.png) | ![zygote](figs/zygote.png) |\n",
    "|---------|--------|\n",
    "| [Flux.jl](https://fluxml.ai/) | [zygote.jl](https://github.com/FluxML/Zygote.jl) |"
   ]
  },
  {
   "cell_type": "markdown",
   "metadata": {
    "slideshow": {
     "slide_type": "subslide"
    }
   },
   "source": [
    "![dynamicalsystems](figs/dynamicalsystems_logo.gif)\n",
    "[DynamicalSystems.jl](https://juliadynamics.github.io/DynamicalSystems.jl/latest/)"
   ]
  },
  {
   "cell_type": "markdown",
   "metadata": {
    "slideshow": {
     "slide_type": "subslide"
    }
   },
   "source": [
    "![jump-logo-with-text](figs/jump-logo-with-text.svg)\n",
    "[JuMP.jl](http://www.juliaopt.org/JuMP.jl/v0.19.1/)\n",
    "![what_jump_does](figs/what_jump_does.png)\n",
    "\n"
   ]
  },
  {
   "cell_type": "markdown",
   "metadata": {
    "slideshow": {
     "slide_type": "subslide"
    }
   },
   "source": [
    "[Makie.jl](https://github.com/JuliaPlots/Makie.jl)\n",
    "\n",
    "| ![fhn](figs/fhn.gif) | ![complex](figs/complex_makie.gif) |\n",
    "|---------|---------|\n",
    "| https://github.com/mmider/BridgeSDEInference.jl | https://github.com/JuliaPlots/Makie.jl |"
   ]
  },
  {
   "cell_type": "markdown",
   "metadata": {
    "slideshow": {
     "slide_type": "subslide"
    }
   },
   "source": [
    "* Wrappers around other languages/libraries from other languages: [PyCall.jl](https://github.com/JuliaPy/PyCall.jl), [Cxx.jl](https://github.com/JuliaInterop/Cxx.jl), [JavaCall.jl](https://github.com/JuliaInterop/JavaCall.jl), [MATLAB.jl](https://github.com/JuliaInterop/MATLAB.jl), [Mathematica.jl](https://github.com/JuliaInterop/Mathematica.jl), [TensorFlow.jl](https://github.com/malmaud/TensorFlow.jl), [ScikitLearn.jl](https://github.com/cstjean/ScikitLearn.jl)\n",
    "* Optimization: [Optim.jl](https://github.com/JuliaNLSolvers/Optim.jl)\n",
    "* Standard plotting libraries: [PyPlot.jl](https://github.com/JuliaPy/PyPlot.jl) [Gadfly.jl](https://github.com/GiovineItalia/Gadfly.jl)\n",
    "* Automatic differentiation [ForwardDiff.jl](https://github.com/JuliaDiff/ForwardDiff.jl), [ReverseDiff.jl](https://github.com/JuliaDiff/ReverseDiff.jl)\n",
    "* Working with databases: see [JuliaDatabases](https://github.com/JuliaDatabases) environment or Julia-specific database [JuliaDB.jl](https://github.com/JuliaComputing/JuliaDB.jl)\n",
    "* Generic Markov Chain Monte Carlo [Mamba.jl](https://github.com/brian-j-smith/Mamba.jl)\n",
    "* GPU computing [CuArrays.jl](https://github.com/JuliaGPU/CuArrays.jl)\n",
    "* For graphs and networks: [Graphs.jl](https://github.com/JuliaGraphs/LightGraphs.jl) and more generally the environment [JuliaGraphs](https://github.com/JuliaGraphs/LightGraphs.jl)\n",
    "* Some packages for manifolds: [Manopt.jl](https://www.manoptjl.org/stable/), [Manifolds.jl](https://github.com/JuliaNLSolvers/Manifolds.jl)\n",
    "* and about `2800` more..."
   ]
  },
  {
   "cell_type": "markdown",
   "metadata": {
    "slideshow": {
     "slide_type": "slide"
    }
   },
   "source": [
    "### Thank you for your attention!"
   ]
  }
 ],
 "metadata": {
  "celltoolbar": "Slideshow",
  "kernelspec": {
   "display_name": "Julia 1.3.0",
   "language": "julia",
   "name": "julia-1.3"
  },
  "language_info": {
   "file_extension": ".jl",
   "mimetype": "application/julia",
   "name": "julia",
   "version": "1.3.0"
  }
 },
 "nbformat": 4,
 "nbformat_minor": 2
}
